{
 "cells": [
  {
   "cell_type": "markdown",
   "metadata": {},
   "source": [
    "# Pilot response model\n",
    "\n",
    "The pilot response model aims to better capture unmanned aircraft response to advisories (either piloted by human or autonomously). When responding, the pilot executes the advisory for the total length of the period between decisions $T$. In the model, the advisory response in the current time step of $T$ is determined stochastically based on the new advisory via a Bernoulli process. As such, the delay until response follows a geometric distribution, and for some mean time until response $k$, the response probability at each step in the process is $T / (T + k)$.\n",
    "\n",
    "Specifically,\n",
    "* the pilot always responds to a clear of conflict status \"advisory\"\n",
    "* once the pilot responds, it will continue to respond for the duration of the advisory\n",
    "* the average response delay for initial advisories is $5$ seconds (from ICAO recommended practices for responding to resolution advisories [1])\n",
    "* when the pilot is not responding, the aircraft follows a white noise model.\n",
    "\n",
    "[1] International Civil Aviation Organization, “Surveillance, radar and collision avoidance,” in International Standards and Recommended Practices, 4th, vol. IV, annex 10, 2007."
   ]
  },
  {
   "cell_type": "markdown",
   "metadata": {},
   "source": [
    "## Load modules"
   ]
  },
  {
   "cell_type": "code",
   "execution_count": 1,
   "metadata": {
    "collapsed": false,
    "scrolled": true
   },
   "outputs": [
    {
     "name": "stderr",
     "output_type": "stream",
     "text": [
      "Warning: error initializing module Blosc:\n",
      "ErrorException(\"error compiling __init__: could not load module /home/rtompa2/.julia/v0.3/Blosc/src/../deps/libblosc: /home/rtompa2/.julia/v0.3/Blosc/src/../deps/libblosc: cannot open shared object file: No such file or directory\")\n",
      "Warning: error initializing module HDF5:\n",
      "ErrorException(\"error compiling blosc_filter: could not load module /home/rtompa2/.julia/v0.3/Blosc/src/../deps/libblosc: /home/rtompa2/.julia/v0.3/Blosc/src/../deps/libblosc: cannot open shared object file: No such file or directory\")\n",
      "Warning: error initializing module Blosc:\n",
      "ErrorException(\"error compiling __init__: could not load module /home/rtompa2/.julia/v0.3/Blosc/src/../deps/libblosc: /home/rtompa2/.julia/v0.3/Blosc/src/../deps/libblosc: cannot open shared object file: No such file or directory\")\n",
      "Warning: error initializing module Blosc:\n",
      "ErrorException(\"error compiling __init__: could not load module /home/rtompa2/.julia/v0.3/Blosc/src/../deps/libblosc: /home/rtompa2/.julia/v0.3/Blosc/src/../deps/libblosc: cannot open shared object file: No such file or directory\")\n",
      "Warning: error initializing module Blosc:\n",
      "ErrorException(\"error compiling __init__: could not load module /home/rtompa2/.julia/v0.3/Blosc/src/../deps/libblosc: /home/rtompa2/.julia/v0.3/Blosc/src/../deps/libblosc: cannot open shared object file: No such file or directory\")\n",
      "Warning: error initializing module Blosc:\n",
      "ErrorException(\"error compiling __init__: could not load module /home/rtompa2/.julia/v0.3/Blosc/src/../deps/libblosc: /home/rtompa2/.julia/v0.3/Blosc/src/../deps/libblosc: cannot open shared object file: No such file or directory\")\n",
      "Warning: error initializing module Blosc:\n",
      "ErrorException(\"error compiling __init__: could not load module /home/rtompa2/.julia/v0.3/Blosc/src/../deps/libblosc: /home/rtompa2/.julia/v0.3/Blosc/src/../deps/libblosc: cannot open shared object file: No such file or directory\")\n",
      "Warning: error initializing module Blosc:\n",
      "ErrorException(\"error compiling __init__: could not load module /home/rtompa2/.julia/v0.3/Blosc/src/../deps/libblosc: /home/rtompa2/.julia/v0.3/Blosc/src/../deps/libblosc: cannot open shared object file: No such file or directory\")\n",
      "Warning: error initializing module Blosc:\n",
      "ErrorException(\"error compiling __init__: could not load module /home/rtompa2/.julia/v0.3/Blosc/src/../deps/libblosc: /home/rtompa2/.julia/v0.3/Blosc/src/../deps/libblosc: cannot open shared object file: No such file or directory\")\n",
      "Warning: error initializing module Blosc:\n",
      "ErrorException(\"error compiling __init__: could not load module /home/rtompa2/.julia/v0.3/Blosc/src/../deps/libblosc: /home/rtompa2/.julia/v0.3/Blosc/src/../deps/libblosc: cannot open shared object file: No such file or directory\")\n",
      "Warning: error initializing module Blosc:\n",
      "ErrorException(\"error compiling __init__: could not load module /home/rtompa2/.julia/v0.3/Blosc/src/../deps/libblosc: /home/rtompa2/.julia/v0.3/Blosc/src/../deps/libblosc: cannot open shared object file: No such file or directory\")\n",
      "Warning: error initializing module Blosc:\n",
      "ErrorException(\"error compiling __init__: could not load module /home/rtompa2/.julia/v0.3/Blosc/src/../deps/libblosc: /home/rtompa2/.julia/v0.3/Blosc/src/../deps/libblosc: cannot open shared object file: No such file or directory\")\n",
      "Warning: error initializing module Blosc:\n",
      "ErrorException(\"error compiling __init__: could not load module /home/rtompa2/.julia/v0.3/Blosc/src/../deps/libblosc: /home/rtompa2/.julia/v0.3/Blosc/src/../deps/libblosc: cannot open shared object file: No such file or directory\")\n",
      "Warning: error initializing module Blosc:\n",
      "ErrorException(\"error compiling __init__: could not load module /home/rtompa2/.julia/v0.3/Blosc/src/../deps/libblosc: /home/rtompa2/.julia/v0.3/Blosc/src/../deps/libblosc: cannot open shared object file: No such file or directory\")\n",
      "Warning: error initializing module Blosc:\n",
      "ErrorException(\"error compiling __init__: could not load module /home/rtompa2/.julia/v0.3/Blosc/src/../deps/libblosc: /home/rtompa2/.julia/v0.3/Blosc/src/../deps/libblosc: cannot open shared object file: No such file or directory\")\n",
      "Warning: error initializing module Blosc:\n",
      "ErrorException(\"error compiling __init__: could not load module /home/rtompa2/.julia/v0.3/Blosc/src/../deps/libblosc: /home/rtompa2/.julia/v0.3/Blosc/src/../deps/libblosc: cannot open shared object file: No such file or directory\")\n",
      "Warning: error initializing module Blosc:\n",
      "ErrorException(\"error compiling __init__: could not load module /home/rtompa2/.julia/v0.3/Blosc/src/../deps/libblosc: /home/rtompa2/.julia/v0.3/Blosc/src/../deps/libblosc: cannot open shared object file: No such file or directory\")\n",
      "Warning: error initializing module Blosc:\n",
      "ErrorException(\"error compiling __init__: could not load module /home/rtompa2/.julia/v0.3/Blosc/src/../deps/libblosc: /home/rtompa2/.julia/v0.3/Blosc/src/../deps/libblosc: cannot open shared object file: No such file or directory\")\n",
      "Warning: error initializing module Blosc:\n",
      "ErrorException(\"error compiling __init__: could not load module /home/rtompa2/.julia/v0.3/Blosc/src/../deps/libblosc: /home/rtompa2/.julia/v0.3/Blosc/src/../deps/libblosc: cannot open shared object file: No such file or directory\")\n",
      "Warning: error initializing module Blosc:\n",
      "ErrorException(\"error compiling __init__: could not load module /home/rtompa2/.julia/v0.3/Blosc/src/../deps/libblosc: /home/rtompa2/.julia/v0.3/Blosc/src/../deps/libblosc: cannot open shared object file: No such file or directory\")\n",
      "Warning: error initializing module Blosc:\n",
      "ErrorException(\"error compiling __init__: could not load module /home/rtompa2/.julia/v0.3/Blosc/src/../deps/libblosc: /home/rtompa2/.julia/v0.3/Blosc/src/../deps/libblosc: cannot open shared object file: No such file or directory\")\n",
      "Warning: error initializing module Blosc:\n",
      "ErrorException(\"error compiling __init__: could not load module /home/rtompa2/.julia/v0.3/Blosc/src/../deps/libblosc: /home/rtompa2/.julia/v0.3/Blosc/src/../deps/libblosc: cannot open shared object file: No such file or directory\")\n",
      "Warning: error initializing module HDF5:\n",
      "ErrorException(\"error compiling blosc_filter: could not load module /home/rtompa2/.julia/v0.3/Blosc/src/../deps/libblosc: /home/rtompa2/.julia/v0.3/Blosc/src/../deps/libblosc: cannot open shared object file: No such file or directory\")\n",
      "Warning: error initializing module HDF5:\n",
      "ErrorException(\"error compiling blosc_filter: could not load module /home/rtompa2/.julia/v0.3/Blosc/src/../deps/libblosc: /home/rtompa2/.julia/v0.3/Blosc/src/../deps/libblosc: cannot open shared object file: No such file or directory\")\n",
      "Warning: error initializing module HDF5:\n",
      "ErrorException(\"error compiling blosc_filter: could not load module /home/rtompa2/.julia/v0.3/Blosc/src/../deps/libblosc: /home/rtompa2/.julia/v0.3/Blosc/src/../deps/libblosc: cannot open shared object file: No such file or directory\")\n",
      "Warning: error initializing module HDF5:\n",
      "ErrorException(\"error compiling blosc_filter: could not load module /home/rtompa2/.julia/v0.3/Blosc/src/../deps/libblosc: /home/rtompa2/.julia/v0.3/Blosc/src/../deps/libblosc: cannot open shared object file: No such file or directory\")\n",
      "Warning: error initializing module HDF5:\n",
      "ErrorException(\"error compiling blosc_filter: could not load module /home/rtompa2/.julia/v0.3/Blosc/src/../deps/libblosc: /home/rtompa2/.julia/v0.3/Blosc/src/../deps/libblosc: cannot open shared object file: No such file or directory\")\n",
      "Warning: error initializing module HDF5:\n",
      "ErrorException(\"error compiling blosc_filter: could not load module /home/rtompa2/.julia/v0.3/Blosc/src/../deps/libblosc: /home/rtompa2/.julia/v0.3/Blosc/src/../deps/libblosc: cannot open shared object file: No such file or directory\")\n",
      "Warning: error initializing module HDF5:\n",
      "ErrorException(\"error compiling blosc_filter: could not load module /home/rtompa2/.julia/v0.3/Blosc/src/../deps/libblosc: /home/rtompa2/.julia/v0.3/Blosc/src/../deps/libblosc: cannot open shared object file: No such file or directory\")\n",
      "Warning: error initializing module HDF5:\n",
      "ErrorException(\"error compiling blosc_filter: could not load module /home/rtompa2/.julia/v0.3/Blosc/src/../deps/libblosc: /home/rtompa2/.julia/v0.3/Blosc/src/../deps/libblosc: cannot open shared object file: No such file or directory\")\n",
      "Warning: error initializing module HDF5:\n",
      "ErrorException(\"error compiling blosc_filter: could not load module /home/rtompa2/.julia/v0.3/Blosc/src/../deps/libblosc: /home/rtompa2/.julia/v0.3/Blosc/src/../deps/libblosc: cannot open shared object file: No such file or directory\")\n",
      "Warning: error initializing module HDF5:\n",
      "ErrorException(\"error compiling blosc_filter: could not load module /home/rtompa2/.julia/v0.3/Blosc/src/../deps/libblosc: /home/rtompa2/.julia/v0.3/Blosc/src/../deps/libblosc: cannot open shared object file: No such file or directory\")\n",
      "Warning: error initializing module HDF5:\n",
      "ErrorException(\"error compiling blosc_filter: could not load module /home/rtompa2/.julia/v0.3/Blosc/src/../deps/libblosc: /home/rtompa2/.julia/v0.3/Blosc/src/../deps/libblosc: cannot open shared object file: No such file or directory\")\n",
      "Warning: error initializing module HDF5:\n",
      "ErrorException(\"error compiling blosc_filter: could not load module /home/rtompa2/.julia/v0.3/Blosc/src/../deps/libblosc: /home/rtompa2/.julia/v0.3/Blosc/src/../deps/libblosc: cannot open shared object file: No such file or directory\")\n",
      "Warning: error initializing module HDF5:\n",
      "ErrorException(\"error compiling blosc_filter: could not load module /home/rtompa2/.julia/v0.3/Blosc/src/../deps/libblosc: /home/rtompa2/.julia/v0.3/Blosc/src/../deps/libblosc: cannot open shared object file: No such file or directory\")\n",
      "Warning: error initializing module HDF5:\n",
      "ErrorException(\"error compiling blosc_filter: could not load module /home/rtompa2/.julia/v0.3/Blosc/src/../deps/libblosc: /home/rtompa2/.julia/v0.3/Blosc/src/../deps/libblosc: cannot open shared object file: No such file or directory\")\n",
      "Warning: error initializing module HDF5:\n",
      "ErrorException(\"error compiling blosc_filter: could not load module /home/rtompa2/.julia/v0.3/Blosc/src/../deps/libblosc: /home/rtompa2/.julia/v0.3/Blosc/src/../deps/libblosc: cannot open shared object file: No such file or directory\")\n",
      "Warning: error initializing module HDF5:\n",
      "ErrorException(\"error compiling blosc_filter: could not load module /home/rtompa2/.julia/v0.3/Blosc/src/../deps/libblosc: /home/rtompa2/.julia/v0.3/Blosc/src/../deps/libblosc: cannot open shared object file: No such file or directory\")\n",
      "Warning: error initializing module HDF5:\n",
      "ErrorException(\"error compiling blosc_filter: could not load module /home/rtompa2/.julia/v0.3/Blosc/src/../deps/libblosc: /home/rtompa2/.julia/v0.3/Blosc/src/../deps/libblosc: cannot open shared object file: No such file or directory\")\n",
      "Warning: error initializing module HDF5:\n",
      "ErrorException(\"error compiling blosc_filter: could not load module /home/rtompa2/.julia/v0.3/Blosc/src/../deps/libblosc: /home/rtompa2/.julia/v0.3/Blosc/src/../deps/libblosc: cannot open shared object file: No such file or directory\")\n",
      "Warning: error initializing module HDF5:\n",
      "ErrorException(\"error compiling blosc_filter: could not load module /home/rtompa2/.julia/v0.3/Blosc/src/../deps/libblosc: /home/rtompa2/.julia/v0.3/Blosc/src/../deps/libblosc: cannot open shared object file: No such file or directory\")\n",
      "Warning: error initializing module HDF5:\n",
      "ErrorException(\"error compiling blosc_filter: could not load module /home/rtompa2/.julia/v0.3/Blosc/src/../deps/libblosc: /home/rtompa2/.julia/v0.3/Blosc/src/../deps/libblosc: cannot open shared object file: No such file or directory\")\n"
     ]
    },
    {
     "data": {
      "text/html": [
       "<script charset=\"utf-8\">(function ($, undefined) {\n",
       "\n",
       "    function createElem(tag, attr, content) {\n",
       "\t// TODO: remove jQuery dependency\n",
       "\tvar el = $(\"<\" + tag + \"/>\").attr(attr);\n",
       "\tif (content) {\n",
       "\t    el.append(content);\n",
       "\t}\n",
       "\treturn el[0];\n",
       "    }\n",
       "\n",
       "    // A widget must expose an id field which identifies it to the backend,\n",
       "    // an elem attribute which is will be added to the DOM, and\n",
       "    // a getState() method which returns the value to be sent to the backend\n",
       "    // a sendUpdate() method which sends its current value to the backend\n",
       "    var Widget = {\n",
       "\tid: undefined,\n",
       "\telem: undefined,\n",
       "\tlabel: undefined,\n",
       "\tgetState: function () {\n",
       "\t    return this.elem.value;\n",
       "\t},\n",
       "\tsendUpdate: undefined\n",
       "    };\n",
       "\n",
       "    var Slider = function (typ, id, init) {\n",
       "\tvar attr = { type:  \"range\",\n",
       "\t\t     value: init.value,\n",
       "\t\t     min:   init.min,\n",
       "\t\t     max:   init.max,\n",
       "\t\t     step:  init.step },\n",
       "\t    elem = createElem(\"input\", attr),\n",
       "\t    self = this;\n",
       "\n",
       "\telem.onchange = function () {\n",
       "\t    self.sendUpdate();\n",
       "\t}\n",
       "\n",
       "\tthis.id = id;\n",
       "\tthis.elem = elem;\n",
       "\tthis.label = init.label;\n",
       "\n",
       "\tInputWidgets.commInitializer(this); // Initialize communication\n",
       "    }\n",
       "    Slider.prototype = Widget;\n",
       "\n",
       "    var Checkbox = function (typ, id, init) {\n",
       "\tvar attr = { type: \"checkbox\",\n",
       "\t\t     checked: init.value },\n",
       "\t    elem = createElem(\"input\", attr),\n",
       "\t    self = this;\n",
       "\n",
       "\tthis.getState = function () {\n",
       "\t    return elem.checked;\n",
       "\t}\n",
       "\telem.onchange = function () {\n",
       "\t    self.sendUpdate();\n",
       "\t}\n",
       "\n",
       "\tthis.id = id;\n",
       "\tthis.elem = elem;\n",
       "\tthis.label = init.label;\n",
       "\n",
       "\tInputWidgets.commInitializer(this);\n",
       "    }\n",
       "    Checkbox.prototype = Widget;\n",
       "\n",
       "    var Button = function (typ, id, init) {\n",
       "\tvar attr = { type:    \"button\",\n",
       "\t\t     value:   init.label },\n",
       "\t    elem = createElem(\"input\", attr),\n",
       "\t    self = this;\n",
       "\tthis.getState = function () {\n",
       "\t    return null;\n",
       "\t}\n",
       "\telem.onclick = function () {\n",
       "\t    self.sendUpdate();\n",
       "\t}\n",
       "\n",
       "\tthis.id = id;\n",
       "\tthis.elem = elem;\n",
       "\tthis.label = init.label;\n",
       "\n",
       "\tInputWidgets.commInitializer(this);\n",
       "    }\n",
       "    Button.prototype = Widget;\n",
       "\n",
       "    var Text = function (typ, id, init) {\n",
       "\tvar attr = { type:  \"text\",\n",
       "\t\t     placeholder: init.label,\n",
       "\t\t     value: init.value },\n",
       "\t    elem = createElem(\"input\", attr),\n",
       "\t    self = this;\n",
       "\tthis.getState = function () {\n",
       "\t    return elem.value;\n",
       "\t}\n",
       "\telem.onkeyup = function () {\n",
       "\t    self.sendUpdate();\n",
       "\t}\n",
       "\n",
       "\tthis.id = id;\n",
       "\tthis.elem = elem;\n",
       "\tthis.label = init.label;\n",
       "\n",
       "\tInputWidgets.commInitializer(this);\n",
       "    }\n",
       "    Text.prototype = Widget;\n",
       "\n",
       "    var Textarea = function (typ, id, init) {\n",
       "\tvar attr = { placeholder: init.label },\n",
       "\t    elem = createElem(\"textarea\", attr, init.value),\n",
       "\t    self = this;\n",
       "\tthis.getState = function () {\n",
       "\t    return elem.value;\n",
       "\t}\n",
       "\telem.onchange = function () {\n",
       "\t    self.sendUpdate();\n",
       "\t}\n",
       "\n",
       "\tthis.id = id;\n",
       "\tthis.elem = elem;\n",
       "\tthis.label = init.label;\n",
       "\n",
       "\tInputWidgets.commInitializer(this);\n",
       "    }\n",
       "    Textarea.prototype = Widget;\n",
       "\n",
       "    // RadioButtons\n",
       "    // Dropdown\n",
       "    // HTML\n",
       "    // Latex\n",
       "\n",
       "    var InputWidgets = {\n",
       "\tSlider: Slider,\n",
       "\tCheckbox: Checkbox,\n",
       "\tButton: Button,\n",
       "\tText: Text,\n",
       "\tTextarea: Textarea,\n",
       "\tdebug: false,\n",
       "\tlog: function () {\n",
       "\t    if (InputWidgets.debug) {\n",
       "\t\tconsole.log.apply(console, arguments);\n",
       "\t    }\n",
       "\t},\n",
       "\t// a central way to initalize communication\n",
       "\t// for widgets.\n",
       "\tcommInitializer: function (widget) {\n",
       "\t    widget.sendUpdate = function () {};\n",
       "\t}\n",
       "    };\n",
       "\n",
       "    window.InputWidgets = InputWidgets;\n",
       "\n",
       "})(jQuery, undefined);\n",
       "</script>"
      ]
     },
     "metadata": {},
     "output_type": "display_data"
    },
    {
     "data": {
      "text/html": [
       "<div id=\"interact-js-shim\">\n",
       "    <script charset=\"utf-8\">\n",
       "(function (IPython, $, _, MathJax, Widgets) {\n",
       "    $.event.special.destroyed = {\n",
       "\tremove: function(o) {\n",
       "\t    if (o.handler) {\n",
       "\t\to.handler.apply(this, arguments)\n",
       "\t    }\n",
       "\t}\n",
       "    }\n",
       "\n",
       "    var OutputArea = IPython.version >= \"4.0.0\" ? require(\"notebook/js/outputarea\").OutputArea : IPython.OutputArea;\n",
       "\n",
       "    var redrawValue = function (container, type, val) {\n",
       "\tvar selector = $(\"<div/>\");\n",
       "\tvar oa = new OutputArea(_.extend(selector, {\n",
       "\t    selector: selector,\n",
       "\t    prompt_area: true,\n",
       "\t    events: IPython.events,\n",
       "\t    keyboard_manager: IPython.keyboard_manager\n",
       "\t})); // Hack to work with IPython 2.1.0\n",
       "\n",
       "\tswitch (type) {\n",
       "\tcase \"image/png\":\n",
       "            var _src = 'data:' + type + ';base64,' + val;\n",
       "\t    $(container).find(\"img\").attr('src', _src);\n",
       "\t    break;\n",
       "\tdefault:\n",
       "\t    var toinsert = OutputArea.append_map[type].apply(\n",
       "\t\toa, [val, {}, selector]\n",
       "\t    );\n",
       "\t    $(container).empty().append(toinsert.contents());\n",
       "\t    selector.remove();\n",
       "\t}\n",
       "\tif (type === \"text/latex\" && MathJax) {\n",
       "\t    MathJax.Hub.Queue([\"Typeset\", MathJax.Hub, toinsert.get(0)]);\n",
       "\t}\n",
       "    }\n",
       "\n",
       "\n",
       "    $(document).ready(function() {\n",
       "\tWidgets.debug = false; // log messages etc in console.\n",
       "\tfunction initComm(evt, data) {\n",
       "\t    var comm_manager = data.kernel.comm_manager;\n",
       "        //_.extend(comm_manager.targets, require(\"widgets/js/widget\"))\n",
       "\t    comm_manager.register_target(\"Signal\", function (comm) {\n",
       "            comm.on_msg(function (msg) {\n",
       "                //Widgets.log(\"message received\", msg);\n",
       "                var val = msg.content.data.value;\n",
       "                $(\".signal-\" + comm.comm_id).each(function() {\n",
       "                var type = $(this).data(\"type\");\n",
       "                if (val[type]) {\n",
       "                    redrawValue(this, type, val[type], type);\n",
       "                }\n",
       "                });\n",
       "                delete val;\n",
       "                delete msg.content.data.value;\n",
       "            });\n",
       "\t    });\n",
       "\n",
       "\t    // coordingate with Comm and redraw Signals\n",
       "\t    // XXX: Test using Reactive here to improve performance\n",
       "\t    $([IPython.events]).on(\n",
       "\t\t'output_appended.OutputArea', function (event, type, value, md, toinsert) {\n",
       "\t\t    if (md && md.reactive) {\n",
       "                // console.log(md.comm_id);\n",
       "                toinsert.addClass(\"signal-\" + md.comm_id);\n",
       "                toinsert.data(\"type\", type);\n",
       "                // Signal back indicating the mimetype required\n",
       "                var comm_manager = IPython.notebook.kernel.comm_manager;\n",
       "                var comm = comm_manager.comms[md.comm_id];\n",
       "                comm.then(function (c) {\n",
       "                    c.send({action: \"subscribe_mime\",\n",
       "                       mime: type});\n",
       "                    toinsert.bind(\"destroyed\", function() {\n",
       "                        c.send({action: \"unsubscribe_mime\",\n",
       "                               mime: type});\n",
       "                    });\n",
       "                })\n",
       "\t\t    }\n",
       "\t    });\n",
       "\t}\n",
       "\n",
       "\ttry {\n",
       "\t    // try to initialize right away. otherwise, wait on the status_started event.\n",
       "\t    initComm(undefined, IPython.notebook);\n",
       "\t} catch (e) {\n",
       "\t    $([IPython.events]).on('kernel_created.Kernel kernel_created.Session', initComm);\n",
       "\t}\n",
       "    });\n",
       "})(IPython, jQuery, _, MathJax, InputWidgets);\n",
       "</script>\n",
       "    <script>\n",
       "        window.interactLoadedFlag = true\n",
       "       $(\"#interact-js-shim\").bind(\"destroyed\", function () {\n",
       "           if (window.interactLoadedFlag) {\n",
       "               console.warn(\"JavaScript required by Interact will be removed if you remove this cell or run using Interact more than once.\")\n",
       "           }\n",
       "       })\n",
       "       $([IPython.events]).on(\"kernel_starting.Kernel kernel_restarting.Kernel\", function () { window.interactLoadedFlag = false })\n",
       "   </script>\n",
       "</div>"
      ]
     },
     "metadata": {},
     "output_type": "display_data"
    },
    {
     "data": {
      "text/plain": [
       "SCA(9623701,36,[:right20,:right10,:straight,:left10,:left20,:clearOfConflict],RectangleGrid with 9623700 points)"
      ]
     },
     "execution_count": 1,
     "metadata": {},
     "output_type": "execute_result"
    }
   ],
   "source": [
    "push!(LOAD_PATH, \"../dvi\")\n",
    "\n",
    "addprocs(int(CPU_CORES / 2))\n",
    "\n",
    "using DiscreteValueIteration, JLD, PilotSCAs, PilotSCAViz\n",
    "\n",
    "mdp = SCA()"
   ]
  },
  {
   "cell_type": "markdown",
   "metadata": {},
   "source": [
    "## Check size of MDP"
   ]
  },
  {
   "cell_type": "code",
   "execution_count": 2,
   "metadata": {
    "collapsed": false,
    "scrolled": true
   },
   "outputs": [
    {
     "name": "stdout",
     "output_type": "stream",
     "text": [
      "mdp of type SCA takes up 5.496 kB\n"
     ]
    }
   ],
   "source": [
    "function getBytes(x)\n",
    "   total = 0;\n",
    "   fieldNames = typeof(x).names;\n",
    "   if fieldNames == ()\n",
    "      return sizeof(x);\n",
    "   else\n",
    "     for fieldName in fieldNames\n",
    "        total += getBytes(getfield(x,fieldName));\n",
    "     end\n",
    "     return total;\n",
    "   end\n",
    "end\n",
    "\n",
    "println(\"mdp of type \", typeof(mdp), \" takes up \", getBytes(mdp) / 1000.0, \" kB\")"
   ]
  },
  {
   "cell_type": "markdown",
   "metadata": {},
   "source": [
    "## Informal validation of transition function"
   ]
  },
  {
   "cell_type": "code",
   "execution_count": 3,
   "metadata": {
    "collapsed": false,
    "scrolled": false
   },
   "outputs": [
    {
     "name": "stdout",
     "output_type": "stream",
     "text": [
      "next state indices:\n",
      "[1,1,2,9623701,9623701,1,2,481186,481187,9623701,9623701,9623701,9623701,2405926,2405926,2405927,9623701,9623701,2405926,2405927,2887111,2887112,9623701,9623701,9623701,9623701,7217776,7217776,7217777,9623701,9623701,7217776,7217777,7698961,7698962,9623701,9623701,9623701,9623701,4811851,4811851,4811852,9623701,9623701,4811851,4811852,5293036,5293037,9623701,9623701,9623701,9623701]\n",
      "\n",
      "probabilities:\n",
      "[0.08333333333333333,0.019097222222222224,0.001736111111111112,0.020833333333333336,0.020833333333333336,0.003819444444444444,0.00034722222222222234,0.01527777777777778,0.0013888888888888896,0.020833333333333336,0.020833333333333336,0.020833333333333336,0.020833333333333336,0.08333333333333333,0.019097222222222224,0.001736111111111112,0.020833333333333336,0.020833333333333336,0.003819444444444444,0.00034722222222222234,0.01527777777777778,0.0013888888888888896,0.020833333333333336,0.020833333333333336,0.020833333333333336,0.020833333333333336,0.08333333333333333,0.019097222222222224,0.001736111111111112,0.020833333333333336,0.020833333333333336,0.003819444444444444,0.00034722222222222234,0.01527777777777778,0.0013888888888888896,0.020833333333333336,0.020833333333333336,0.020833333333333336,0.020833333333333336,0.08333333333333333,0.019097222222222224,0.001736111111111112,0.020833333333333336,0.020833333333333336,0.003819444444444444,0.00034722222222222234,0.01527777777777778,0.0013888888888888896,0.020833333333333336,0.020833333333333336,0.020833333333333336,0.020833333333333336]\n",
      "\n",
      "probabilities sum to 1.0\n"
     ]
    }
   ],
   "source": [
    "nextStateIndices, probs = nextStates(mdp, 1, 15)\n",
    "println(\"next state indices:\\n\", nextStateIndices, \"\\n\")\n",
    "println(\"probabilities:\\n\", probs, \"\\n\")\n",
    "println(\"probabilities sum to \", sum(probs))"
   ]
  },
  {
   "cell_type": "markdown",
   "metadata": {},
   "source": [
    "## Parallel solution"
   ]
  },
  {
   "cell_type": "code",
   "execution_count": 4,
   "metadata": {
    "collapsed": false,
    "scrolled": true
   },
   "outputs": [
    {
     "data": {
      "text/plain": [
       "ParallelSolver(20,None[],100,0.01,false,true,true,true)"
      ]
     },
     "execution_count": 4,
     "metadata": {},
     "output_type": "execute_result"
    }
   ],
   "source": [
    "numProcs = int(CPU_CORES / 2)\n",
    "solver = ParallelSolver(\n",
    "    numProcs,\n",
    "    maxIterations = 100,\n",
    "    tolerance = 1e-2,\n",
    "    gaussSiedel = false,\n",
    "    includeV = true,\n",
    "    includeQ = true,\n",
    "    includeA = true)"
   ]
  },
  {
   "cell_type": "code",
   "execution_count": null,
   "metadata": {
    "collapsed": false,
    "scrolled": true
   },
   "outputs": [],
   "source": [
    "policy = solve(solver, mdp, verbose = true)\n",
    "println(\"\")\n",
    "solQ = sharray2array(policy.Q')\n",
    "writedlm(\"../../data/pilotalpha110915_3.txt\", solQ)"
   ]
  },
  {
   "cell_type": "code",
   "execution_count": null,
   "metadata": {
    "collapsed": false
   },
   "outputs": [],
   "source": [
    "solQ = sharray2array(policy.Q')\n",
    "save(\"../../data/pilot-alpha.jld\", \"solQ\", solQ)"
   ]
  },
  {
   "cell_type": "markdown",
   "metadata": {},
   "source": [
    "## Check against reference solution by visual inspection"
   ]
  },
  {
   "cell_type": "code",
   "execution_count": null,
   "metadata": {
    "collapsed": false,
    "scrolled": true
   },
   "outputs": [],
   "source": [
    "d = DoubleUAV()\n",
    "solQ = load(\"../../data/pilot-alpha.jld\", \"solQ\")\n",
    "println(\"\")"
   ]
  },
  {
   "cell_type": "markdown",
   "metadata": {},
   "source": [
    "### Parallel solver policy plot"
   ]
  },
  {
   "cell_type": "code",
   "execution_count": null,
   "metadata": {
    "collapsed": false,
    "scrolled": true
   },
   "outputs": [],
   "source": [
    "nstates, _ = size(solQ)\n",
    "nministates = int64((nstates - 1) / 4)\n",
    "case = 0 # cases are 0,1,2,3\n",
    "viz_pairwise_policy(d, [solQ[1 + nministates*case:nministates + nministates*case, :]; solQ[end, :]])"
   ]
  },
  {
   "cell_type": "code",
   "execution_count": null,
   "metadata": {
    "collapsed": false
   },
   "outputs": [],
   "source": [
    "solQ"
   ]
  },
  {
   "cell_type": "code",
   "execution_count": null,
   "metadata": {
    "collapsed": true
   },
   "outputs": [],
   "source": []
  }
 ],
 "metadata": {
  "kernelspec": {
   "display_name": "Julia 0.3.10",
   "language": "julia",
   "name": "julia-0.3"
  },
  "language_info": {
   "file_extension": ".jl",
   "mimetype": "application/julia",
   "name": "julia",
   "version": "0.3.10"
  }
 },
 "nbformat": 4,
 "nbformat_minor": 0
}
